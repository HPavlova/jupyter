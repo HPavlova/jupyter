{
 "cells": [
  {
   "cell_type": "code",
   "execution_count": 23,
   "id": "4eda5815",
   "metadata": {},
   "outputs": [],
   "source": [
    "import numpy as np"
   ]
  },
  {
   "cell_type": "markdown",
   "id": "5d032b03",
   "metadata": {},
   "source": [
    "### метод 1"
   ]
  },
  {
   "cell_type": "code",
   "execution_count": 2,
   "id": "d7130b08",
   "metadata": {},
   "outputs": [],
   "source": [
    "A=np.array([[5,3,2], [2,4,6], [2,9,1]])\n",
    "b = np.array([1,8,3])"
   ]
  },
  {
   "cell_type": "code",
   "execution_count": 3,
   "id": "e54e6580",
   "metadata": {},
   "outputs": [
    {
     "data": {
      "text/plain": [
       "array([[5, 3, 2],\n",
       "       [2, 4, 6],\n",
       "       [2, 9, 1]])"
      ]
     },
     "execution_count": 3,
     "metadata": {},
     "output_type": "execute_result"
    }
   ],
   "source": [
    "A"
   ]
  },
  {
   "cell_type": "code",
   "execution_count": 4,
   "id": "36f74a13",
   "metadata": {},
   "outputs": [
    {
     "data": {
      "text/plain": [
       "array([1, 8, 3])"
      ]
     },
     "execution_count": 4,
     "metadata": {},
     "output_type": "execute_result"
    }
   ],
   "source": [
    "b"
   ]
  },
  {
   "cell_type": "code",
   "execution_count": 5,
   "id": "94b2b011",
   "metadata": {},
   "outputs": [
    {
     "data": {
      "text/plain": [
       "array([[ 0.25 , -0.075, -0.05 ],\n",
       "       [-0.05 , -0.005,  0.13 ],\n",
       "       [-0.05 ,  0.195, -0.07 ]])"
      ]
     },
     "execution_count": 5,
     "metadata": {},
     "output_type": "execute_result"
    }
   ],
   "source": [
    "A_inv=np.linalg.inv(A)\n",
    "A_inv"
   ]
  },
  {
   "cell_type": "code",
   "execution_count": 6,
   "id": "bb080371",
   "metadata": {},
   "outputs": [
    {
     "data": {
      "text/plain": [
       "array([-0.5,  0.3,  1.3])"
      ]
     },
     "execution_count": 6,
     "metadata": {},
     "output_type": "execute_result"
    }
   ],
   "source": [
    "A_inv.dot(b)"
   ]
  },
  {
   "cell_type": "markdown",
   "id": "9b5f5c05",
   "metadata": {},
   "source": [
    "### метод2 - определители"
   ]
  },
  {
   "cell_type": "code",
   "execution_count": 7,
   "id": "d63f04e9",
   "metadata": {},
   "outputs": [],
   "source": [
    "a=np.linalg.det(A)"
   ]
  },
  {
   "cell_type": "code",
   "execution_count": 8,
   "id": "ada65f6d",
   "metadata": {},
   "outputs": [
    {
     "data": {
      "text/plain": [
       "-199.99999999999991"
      ]
     },
     "execution_count": 8,
     "metadata": {},
     "output_type": "execute_result"
    }
   ],
   "source": [
    "a"
   ]
  },
  {
   "cell_type": "code",
   "execution_count": 9,
   "id": "6b9162df",
   "metadata": {},
   "outputs": [],
   "source": [
    "A1=A.copy()"
   ]
  },
  {
   "cell_type": "code",
   "execution_count": 10,
   "id": "3832afd7",
   "metadata": {},
   "outputs": [
    {
     "data": {
      "text/plain": [
       "array([[1, 3, 2],\n",
       "       [8, 4, 6],\n",
       "       [3, 9, 1]])"
      ]
     },
     "execution_count": 10,
     "metadata": {},
     "output_type": "execute_result"
    }
   ],
   "source": [
    "A1[:, 0]= b\n",
    "A1"
   ]
  },
  {
   "cell_type": "code",
   "execution_count": 11,
   "id": "cf35c055",
   "metadata": {},
   "outputs": [
    {
     "data": {
      "text/plain": [
       "99.99999999999996"
      ]
     },
     "execution_count": 11,
     "metadata": {},
     "output_type": "execute_result"
    }
   ],
   "source": [
    "a1=np.linalg.det(A1)\n",
    "a1"
   ]
  },
  {
   "cell_type": "code",
   "execution_count": 12,
   "id": "3f7fac67",
   "metadata": {},
   "outputs": [
    {
     "data": {
      "text/plain": [
       "-0.5"
      ]
     },
     "execution_count": 12,
     "metadata": {},
     "output_type": "execute_result"
    }
   ],
   "source": [
    "round(a1/a, 1)"
   ]
  },
  {
   "cell_type": "code",
   "execution_count": 13,
   "id": "b1db5688",
   "metadata": {},
   "outputs": [
    {
     "data": {
      "text/plain": [
       "array([[5, 1, 2],\n",
       "       [2, 8, 6],\n",
       "       [2, 3, 1]])"
      ]
     },
     "execution_count": 13,
     "metadata": {},
     "output_type": "execute_result"
    }
   ],
   "source": [
    "A2=A.copy()\n",
    "A2[:, 1]= b\n",
    "A2"
   ]
  },
  {
   "cell_type": "code",
   "execution_count": 14,
   "id": "220ac6fd",
   "metadata": {},
   "outputs": [
    {
     "data": {
      "text/plain": [
       "-59.999999999999986"
      ]
     },
     "execution_count": 14,
     "metadata": {},
     "output_type": "execute_result"
    }
   ],
   "source": [
    "a2=np.linalg.det(A2)\n",
    "a2"
   ]
  },
  {
   "cell_type": "code",
   "execution_count": 15,
   "id": "4a57e766",
   "metadata": {},
   "outputs": [
    {
     "data": {
      "text/plain": [
       "0.3"
      ]
     },
     "execution_count": 15,
     "metadata": {},
     "output_type": "execute_result"
    }
   ],
   "source": [
    "round(a2/a, 1)"
   ]
  },
  {
   "cell_type": "code",
   "execution_count": 19,
   "id": "9cf82a5d",
   "metadata": {},
   "outputs": [
    {
     "data": {
      "text/plain": [
       "array([[5, 3, 1],\n",
       "       [2, 4, 8],\n",
       "       [2, 9, 3]])"
      ]
     },
     "execution_count": 19,
     "metadata": {},
     "output_type": "execute_result"
    }
   ],
   "source": [
    "A3=A.copy()\n",
    "A3[:, 2]= b\n",
    "A3"
   ]
  },
  {
   "cell_type": "code",
   "execution_count": 20,
   "id": "c8dadf51",
   "metadata": {},
   "outputs": [
    {
     "data": {
      "text/plain": [
       "-259.99999999999994"
      ]
     },
     "execution_count": 20,
     "metadata": {},
     "output_type": "execute_result"
    }
   ],
   "source": [
    "a3=np.linalg.det(A3)\n",
    "a3"
   ]
  },
  {
   "cell_type": "code",
   "execution_count": 21,
   "id": "640f6aca",
   "metadata": {},
   "outputs": [
    {
     "data": {
      "text/plain": [
       "1.3"
      ]
     },
     "execution_count": 21,
     "metadata": {},
     "output_type": "execute_result"
    }
   ],
   "source": [
    "round(a3/a, 1)"
   ]
  },
  {
   "cell_type": "markdown",
   "id": "3bce87b4",
   "metadata": {},
   "source": [
    "### метод 3"
   ]
  },
  {
   "cell_type": "code",
   "execution_count": 22,
   "id": "309fa3b8",
   "metadata": {},
   "outputs": [
    {
     "data": {
      "text/plain": [
       "array([-0.5,  0.3,  1.3])"
      ]
     },
     "execution_count": 22,
     "metadata": {},
     "output_type": "execute_result"
    }
   ],
   "source": [
    "np.linalg.solve(A, b)"
   ]
  },
  {
   "cell_type": "code",
   "execution_count": null,
   "id": "3ebfe2dd",
   "metadata": {},
   "outputs": [],
   "source": []
  }
 ],
 "metadata": {
  "kernelspec": {
   "display_name": "Python 3 (ipykernel)",
   "language": "python",
   "name": "python3"
  },
  "language_info": {
   "codemirror_mode": {
    "name": "ipython",
    "version": 3
   },
   "file_extension": ".py",
   "mimetype": "text/x-python",
   "name": "python",
   "nbconvert_exporter": "python",
   "pygments_lexer": "ipython3",
   "version": "3.9.13"
  }
 },
 "nbformat": 4,
 "nbformat_minor": 5
}
